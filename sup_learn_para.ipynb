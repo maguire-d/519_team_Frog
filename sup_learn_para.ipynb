{
 "cells": [
  {
   "cell_type": "code",
   "execution_count": 1,
   "metadata": {},
   "outputs": [],
   "source": [
    "import numpy as np\n",
    "import scipy as sp\n",
    "import matplotlib.pyplot as plt\n",
    "from sklearn.model_selection import train_test_split\n",
    "from sklearn import datasets\n",
    "from sklearn import svm\n",
    "\n",
    "import seaborn as sns\n",
    "from imblearn.over_sampling import SMOTE\n",
    "\n",
    "\n",
    "import pandas as pd\n",
    "from sklearn.preprocessing import StandardScaler\n",
    "from sklearn.ensemble import RandomForestClassifier  # Example model\n",
    "from sklearn.neighbors import KNeighborsClassifier\n",
    "from sklearn.metrics import accuracy_score, confusion_matrix, classification_report\n"
   ]
  },
  {
   "cell_type": "code",
   "execution_count": 2,
   "metadata": {},
   "outputs": [
    {
     "name": "stdout",
     "output_type": "stream",
     "text": [
      "1169\n",
      "phot_g_mean_mag_error                 32\n",
      "phot_bp_mean_mag_error                59\n",
      "phot_g_mean_mag_corrected             32\n",
      "phot_g_mean_mag_error_corrected       32\n",
      "phot_g_mean_flux_corrected            32\n",
      "phot_bp_rp_excess_factor_corrected    59\n",
      "dtype: int64\n",
      "0.0504704875962361\n",
      "1110\n",
      "287\n",
      "phot_g_mean_mag_error                  4\n",
      "phot_bp_mean_mag_error                14\n",
      "phot_g_mean_mag_corrected              4\n",
      "phot_g_mean_mag_error_corrected        4\n",
      "phot_g_mean_flux_corrected             4\n",
      "phot_bp_rp_excess_factor_corrected    14\n",
      "dtype: int64\n",
      "0.04878048780487805\n",
      "273\n",
      "70902\n",
      "phot_g_mean_mag_error                  168\n",
      "phot_bp_mean_mag_error                5569\n",
      "phot_rp_mean_mag_error                5149\n",
      "phot_g_mean_mag_corrected              168\n",
      "phot_g_mean_mag_error_corrected        168\n",
      "phot_g_mean_flux_corrected             168\n",
      "phot_bp_rp_excess_factor_corrected    5611\n",
      "dtype: int64\n",
      "0.07913740091957913\n",
      "65291\n"
     ]
    }
   ],
   "source": [
    " # Replace 'your_file.csv' with your filename\n",
    "pd.set_option('display.max_columns', None)  # Show all columns\n",
    "# print(df.head())  # Display the first few rows to check the data\n",
    "\n",
    "def csv_cleaner(path, coi):\n",
    "    df = pd.read_csv(path) \n",
    "\n",
    "    df = df[coi]\n",
    "    print(len(df))\n",
    "\n",
    "    # Count NaNs in each column\n",
    "    nan_count = df.isnull().sum()\n",
    "\n",
    "    # Display columns with NaNs\n",
    "    print(nan_count[nan_count > 0])\n",
    "    print(np.max(nan_count) / len(df))\n",
    "\n",
    "    # drop the exceptional columns that still have NaNs\n",
    "    NaNx_clean = df.dropna()\n",
    "    print(len(NaNx_clean))\n",
    "\n",
    "    return NaNx_clean\n",
    "\n",
    "path_MDwarfs = 'gaia_matched/DESY_MDwarfs_Crossmatch.csv'\n",
    "path_NotMDwarfs = 'gaia_matched/DESY_NotMDwarfs_Crossmatch.csv'\n",
    "path_RData = 'gaia_matched/RANDOM_Stars_Crossmatch.csv'\n",
    "#Only gaia data which are not strings nor predominantly NaNs\n",
    "coi = ['ra_epoch2000','dec_epoch2000','errHalfMaj','errHalfMin','errPosAng',\n",
    "    'astrometric_n_good_obs_al','astrometric_gof_al',\n",
    "    'astrometric_chi2_al','astrometric_excess_noise','astrometric_excess_noise_sig',\n",
    "    'astrometric_params_solved','visibility_periods_used','dr2_rv_nb_transits',\n",
    "    'phot_g_mean_mag_error','phot_bp_mean_mag_error','phot_rp_mean_mag_error',\n",
    "    'phot_g_mean_mag_corrected','phot_g_mean_mag_error_corrected','phot_g_mean_flux_corrected',\n",
    "    'phot_bp_rp_excess_factor_corrected','ra_epoch2000_error','dec_epoch2000_error',\n",
    "    'ra_dec_epoch2000_corr','angDist']\n",
    "\n",
    "\n",
    "MDwarfs = csv_cleaner(path_MDwarfs, coi)\n",
    "MDwarfs['SPEC'] = 'M'\n",
    "\n",
    "NotMDwarfs = csv_cleaner(path_NotMDwarfs, coi)\n",
    "NotMDwarfs['SPEC'] = 'B'\n",
    "\n",
    "RData = csv_cleaner(path_RData, coi)\n",
    "RData['SPEC'] = 'ND'\n",
    "length = len(RData)\n"
   ]
  },
  {
   "cell_type": "code",
   "execution_count": 6,
   "metadata": {},
   "outputs": [
    {
     "name": "stdout",
     "output_type": "stream",
     "text": [
      "SPEC\n",
      "ND    32645\n",
      "M      1110\n",
      "B       273\n",
      "Name: count, dtype: int64\n",
      "SPEC\n",
      "ND    26105\n",
      "M     26105\n",
      "B     26105\n",
      "Name: count, dtype: int64\n"
     ]
    }
   ],
   "source": [
    "all_dat = pd.concat([MDwarfs, NotMDwarfs, RData[:int(length/2)]], axis=0)\n",
    "\n",
    "X = all_dat.drop(columns=['SPEC'])  # Features\n",
    "y = all_dat['SPEC']  # Labels\n",
    "\n",
    "print(y.value_counts())\n",
    "\n",
    "X_train, X_test, y_train, y_test = train_test_split(X, y, test_size=0.2, random_state=42)\n",
    "\n",
    "smote = SMOTE(sampling_strategy='auto', random_state=42)\n",
    "\n",
    "# Fit and resample the training data\n",
    "X_resampled, y_resampled = smote.fit_resample(X_train, y_train)\n",
    "print(pd.Series(y_resampled).value_counts())\n",
    "# print(all_dat['SPEC'])"
   ]
  },
  {
   "cell_type": "code",
   "execution_count": 4,
   "metadata": {},
   "outputs": [
    {
     "name": "stdout",
     "output_type": "stream",
     "text": [
      "ND    6332\n",
      "M      337\n",
      "B      137\n",
      "Name: count, dtype: int64\n",
      "Accuracy: 0.9513664413752572\n",
      "              precision    recall  f1-score   support\n",
      "\n",
      "           B       0.14      0.37      0.20        52\n",
      "           M       0.41      0.64      0.50       214\n",
      "          ND       1.00      0.97      0.98      6540\n",
      "\n",
      "    accuracy                           0.95      6806\n",
      "   macro avg       0.52      0.66      0.56      6806\n",
      "weighted avg       0.97      0.95      0.96      6806\n",
      "\n"
     ]
    }
   ],
   "source": [
    "\n",
    "# KNN classifier\n",
    "knn = KNeighborsClassifier(n_neighbors=5, metric='euclidean')\n",
    "knn.fit(X_resampled, y_resampled)\n",
    "\n",
    "# Predictions\n",
    "y_pred = knn.predict(X_test)\n",
    "print(pd.Series(y_pred).value_counts())\n",
    "\n",
    "print(f\"Accuracy: {accuracy_score(y_test, y_pred)}\")\n",
    "print(classification_report(y_test, y_pred))\n"
   ]
  },
  {
   "cell_type": "code",
   "execution_count": 5,
   "metadata": {},
   "outputs": [
    {
     "data": {
      "image/png": "[encoded data removed]",
      "text/plain": [
       "<Figure size 800x600 with 2 Axes>"
      ]
     },
     "metadata": {},
     "output_type": "display_data"
    }
   ],
   "source": [
    "cm = confusion_matrix(y_test, y_pred)\n",
    "plt.figure(figsize=(8, 6))\n",
    "sns.heatmap(cm, annot=True, fmt='d', cmap='Blues', xticklabels=['Mdwarfs', 'Brown Dwarfs', 'Other Stars'], yticklabels=['Mdwarfs', 'Brown Dwarfs', 'Other Stars'])\n",
    "plt.xlabel('Predicted')\n",
    "plt.ylabel('Actual')\n",
    "plt.title('Confusion Matrix')\n",
    "plt.show()\n"
   ]
  },
  {
   "cell_type": "code",
   "execution_count": null,
   "metadata": {},
   "outputs": [],
   "source": []
  },
  {
   "cell_type": "code",
   "execution_count": null,
   "metadata": {},
   "outputs": [],
   "source": []
  }
 ],
 "metadata": {
  "kernelspec": {
   "display_name": "base",
   "language": "python",
   "name": "python3"
  },
  "language_info": {
   "codemirror_mode": {
    "name": "ipython",
    "version": 3
   },
   "file_extension": ".py",
   "mimetype": "text/x-python",
   "name": "python",
   "nbconvert_exporter": "python",
   "pygments_lexer": "ipython3",
   "version": "3.11.9"
  }
 },
 "nbformat": 4,
 "nbformat_minor": 2
}
