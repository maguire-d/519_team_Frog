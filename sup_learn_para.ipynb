{
 "cells": [
  {
   "cell_type": "code",
   "execution_count": 13,
   "metadata": {},
   "outputs": [],
   "source": [
    "import numpy as np\n",
    "import scipy as sp\n",
    "import matplotlib.pyplot as plt\n",
    "from sklearn.model_selection import train_test_split\n",
    "from sklearn import datasets\n",
    "from sklearn import svm\n",
    "\n",
    "import pandas as pd\n",
    "from sklearn.preprocessing import StandardScaler\n",
    "from sklearn.ensemble import RandomForestClassifier  # Example model\n",
    "from sklearn.neighbors import KNeighborsClassifier\n",
    "from sklearn.metrics import accuracy_score, confusion_matrix, classification_report\n"
   ]
  },
  {
   "cell_type": "code",
   "execution_count": 14,
   "metadata": {},
   "outputs": [
    {
     "name": "stdout",
     "output_type": "stream",
     "text": [
      "597\n",
      "parallax                              42\n",
      "parallax_error                        42\n",
      "parallax_over_error                   42\n",
      "pm                                    42\n",
      "pmra                                  42\n",
      "pmra_error                            42\n",
      "pmdec                                 42\n",
      "pmdec_error                           42\n",
      "ruwe                                  42\n",
      "phot_g_mean_flux                       1\n",
      "phot_g_mean_flux_error                 1\n",
      "phot_g_mean_mag                        1\n",
      "phot_bp_mean_flux                     24\n",
      "phot_bp_mean_flux_error               24\n",
      "phot_bp_mean_mag                      24\n",
      "phot_rp_mean_flux                     20\n",
      "phot_rp_mean_mag                      20\n",
      "phot_bp_rp_excess_factor              24\n",
      "bp_rp                                 24\n",
      "phot_g_mean_mag_error                  1\n",
      "phot_bp_mean_mag_error                24\n",
      "phot_rp_mean_mag_error                20\n",
      "phot_g_mean_mag_corrected              1\n",
      "phot_g_mean_mag_error_corrected        1\n",
      "phot_g_mean_flux_corrected             1\n",
      "phot_bp_rp_excess_factor_corrected    24\n",
      "dtype: int64\n",
      "0.07035175879396985\n",
      "539\n"
     ]
    }
   ],
   "source": [
    "df = pd.read_csv('gaia_matched/JOHNSTON_MDwarfs_Crossmatch.csv')  # Replace 'your_file.csv' with your filename\n",
    "pd.set_option('display.max_columns', None)  # Show all columns\n",
    "# print(df.head())  # Display the first few rows to check the data\n",
    "print(len(df))\n",
    "\n",
    "#drop columns which are entirely strings\n",
    "strx = df.drop(columns = (['Designation', '2MASS Number', 'STAT', 'PM?', 'M?', 'source_id','DISC PUBL','duplicated_source']))\n",
    "\n",
    "columns_to_clean = ['+/-', 'H', 'W3']  # List the columns to process\n",
    "strx[columns_to_clean] = strx[columns_to_clean].apply(pd.to_numeric, errors='coerce')\n",
    "\n",
    "#drop columns from the original data set (best to work with just Gaia?)\n",
    "strx = strx.drop(columns = (['RA','DEC','DIST','+/-','V','r','R','i','I','J','H','Ks','K',\n",
    "                            'W1','W2','W3','Teff K','RAD Rj','MASS Mj','a AU','PER yr']))\n",
    "# print(strx.head())\n",
    "\n",
    "#drop columns from data set which are majority NaNs\n",
    "NaNx = strx.drop(columns = ['dr2_radial_velocity','dr2_radial_velocity_error','dr2_rv_template_teff',\n",
    "                            'dr2_rv_template_logg','sdssdr13','urat1','skymapper2','panstarrs1',\n",
    "                            'pseudocolour','pseudocolour_error'])\n",
    "\n",
    "# Count NaNs in each column\n",
    "nan_count = NaNx.isnull().sum()\n",
    "\n",
    "# Display columns with NaNs\n",
    "print(nan_count[nan_count > 0])\n",
    "print(np.max(nan_count) / len(NaNx))\n",
    "\n",
    "# drop the exceptional columns that still have NaNs\n",
    "NaNx_clean = NaNx.dropna()\n",
    "print(len(NaNx_clean))\n",
    "\n",
    "# # Select columns with string (object) data\n",
    "# string_columns = strx.select_dtypes(include=['object'])\n",
    "# print(string_columns)\n",
    "\n",
    "# string_positions = strx.applymap(lambda x: isinstance(x, str)).stack()\n",
    "# print(strx.stack()[string_positions])\n",
    "\n",
    "# # print(strx['W3'][2].dtype)"
   ]
  },
  {
   "cell_type": "code",
   "execution_count": 15,
   "metadata": {},
   "outputs": [],
   "source": [
    "X = NaNx_clean.drop(columns=['SPEC'])  # Features\n",
    "y = NaNx_clean['SPEC']  # Labels\n",
    "\n",
    "X_train, X_test, y_train, y_test = train_test_split(X, y, test_size=0.2, random_state=42)"
   ]
  },
  {
   "cell_type": "code",
   "execution_count": 16,
   "metadata": {},
   "outputs": [],
   "source": [
    "# Normalize features (KNN is sensitive to scale)\n",
    "scaler = StandardScaler()\n",
    "X_scaled = scaler.fit_transform(X)\n",
    "\n",
    "# Train-test split\n",
    "X_train, X_test, y_train, y_test = train_test_split(X_scaled, y, test_size=0.2, random_state=42)\n",
    "\n",
    "# KNN classifier\n",
    "knn = KNeighborsClassifier(n_neighbors=5, metric='euclidean')\n",
    "knn.fit(X_train, y_train)\n",
    "\n",
    "# Predictions\n",
    "y_pred = knn.predict(X_test)"
   ]
  },
  {
   "cell_type": "code",
   "execution_count": null,
   "metadata": {},
   "outputs": [],
   "source": []
  }
 ],
 "metadata": {
  "kernelspec": {
   "display_name": "base",
   "language": "python",
   "name": "python3"
  },
  "language_info": {
   "codemirror_mode": {
    "name": "ipython",
    "version": 3
   },
   "file_extension": ".py",
   "mimetype": "text/x-python",
   "name": "python",
   "nbconvert_exporter": "python",
   "pygments_lexer": "ipython3",
   "version": "3.11.9"
  }
 },
 "nbformat": 4,
 "nbformat_minor": 2
}
