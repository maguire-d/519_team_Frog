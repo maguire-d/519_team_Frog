{
 "cells": [
  {
   "attachments": {},
   "cell_type": "markdown",
   "metadata": {},
   "source": [
    "What do we need to get done??? \n",
    "\n",
    " (When you complete a task fill brackets with X)\n",
    "\n",
    " (When you encounter a new signifciant (sub)task add it to the list)\n",
    "\n",
    " IF YOU WANT TO/START TO WORK ON A PART OF THE PROJECT LISTED HERE PUT YOUR NAME ON IT\n",
    "\n",
    "0)\n",
    "* [ X ] Make data TopCat readable {both for browndwarflist and the DESY data}\n",
    "\n",
    "1)\n",
    "* [ X ] Obtain appropriate Gaia data to match with browndwarflist (Dustin)\n",
    "\n",
    "2)\n",
    "* [ X ] Prune browndwarflist to relevant brown dwarves and m-dwarves (Dustin)\n",
    "\n",
    "3)\n",
    "* [ X ] Cross-match Gaia data with browndwarflist (Dustin)\n",
    "* [ X ] Cross-match Gaia data with DESY (Dustin)\n",
    "\n",
    "\n",
    "* [ X ] Convert DESY data from .fits to .csv (Reece)\n",
    "* [X] Pull random stars from Gaia (from the same catalog as we crossmatched from). Want as .csv and we want at least 2x the number of identified dwarfs in the data. (if we have 200 dwarfs we want 400 non-dwarfs to throw into the learning)\n",
    "\n",
    "4)\n",
    "--- a)\n",
    "* [] Run supervised learning on parameter space for gaia data with brown dwarves, m-dwarves, and standard stars identified (Gabe)\n",
    "\n",
    "--- b)\n",
    "* [] Run supervised learning using gaia's spectroscopic data with brown dwarves, m-dwarves, and standard stars identified (Taylor)\n",
    "\n",
    "5)\n",
    "--- a)\n",
    "* [] Use a holdout set either internal to gaia data or from a different data base to check learning in 4a {The smaller of browndwarflist and DESY will be the hold out once we have both sets} (Gabe)\n",
    "* [] Test which parameters are most important for browndwarf identification from 4a (Emma)\n",
    "* --- [] Generate relevant confusion plots and color coded plots in parameter space (Emma)\n",
    "\n",
    "--- b)\n",
    "* [] Use a holdout set using external spectroscopic data to check learning in 4b {The smaller of browndwarflist and DESY will be the hold out once we have both sets}\n",
    "* --- [] Generate relevant confusion plots\n",
   ]
  },
  {
   "cell_type": "markdown",
   "metadata": {},
   "source": []
  }
 ],
 "metadata": {
  "kernelspec": {
   "display_name": "Python 3",
   "language": "python",
   "name": "python3"
  },
  "language_info": {
   "name": "python",
   "version": "3.12.8"
  },
  "vscode": {
   "interpreter": {
    "hash": "71a97d14f7cf0d5b768614ea5fe0b04c6b7142e786139792f87da4c16c381152"
   }
  }
 },
 "nbformat": 4,
 "nbformat_minor": 2
}
