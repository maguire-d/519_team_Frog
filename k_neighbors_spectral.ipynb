{
 "cells": [
  {
   "cell_type": "code",
   "execution_count": 1,
   "metadata": {},
   "outputs": [],
   "source": [
    "import numpy as np\n",
    "import matplotlib.pyplot as plt\n",
    "import scipy as sp\n",
    "from sklearn.model_selection import train_test_split\n",
    "from sklearn import datasets\n",
    "from sklearn import svm\n",
    "\n",
    "import pandas as pd\n",
    "from sklearn.preprocessing import StandardScaler\n",
    "from sklearn.ensemble import RandomForestClassifier  # Example model\n",
    "from sklearn.neighbors import KNeighborsClassifier\n",
    "from sklearn.metrics import accuracy_score, confusion_matrix, classification_report\n"
   ]
  },
  {
   "cell_type": "code",
   "execution_count": 17,
   "metadata": {},
   "outputs": [
    {
     "name": "stdout",
     "output_type": "stream",
     "text": [
      "597\n",
      "phot_g_mean_flux                       1\n",
      "phot_bp_mean_flux                     24\n",
      "phot_rp_mean_flux                     20\n",
      "phot_bp_rp_excess_factor              24\n",
      "bp_rp                                 24\n",
      "phot_g_mean_flux_error                 1\n",
      "phot_bp_mean_flux_error               24\n",
      "phot_g_mean_mag                        1\n",
      "phot_bp_mean_mag                      24\n",
      "phot_rp_mean_mag                      20\n",
      "phot_g_mean_mag_error                  1\n",
      "phot_bp_mean_mag_error                24\n",
      "phot_rp_mean_mag_error                20\n",
      "phot_g_mean_mag_corrected              1\n",
      "phot_g_mean_mag_error_corrected        1\n",
      "phot_g_mean_flux_corrected             1\n",
      "phot_bp_rp_excess_factor_corrected    24\n",
      "dtype: int64\n",
      "0.04020100502512563\n",
      "573\n"
     ]
    }
   ],
   "source": [
    "df = pd.read_csv('gaia_matched/JOHNSTON_MDwarfs_Crossmatch.csv')  # Replace 'your_file.csv' with your filename\n",
    "pd.set_option('display.max_columns', None)  # Show all columns\n",
    "# print(df.head())  # Display the first few rows to check the data\n",
    "print(len(df))\n",
    "\n",
    "#drop columns which are entirely strings\n",
    "#strx = df.drop(columns = (['Designation', '2MASS Number', 'STAT', 'PM?', 'M?', 'source_id','DISC PUBL','duplicated_source']))\n",
    "\n",
    "columns_to_clean = ['phot_g_mean_flux', 'phot_bp_mean_flux','phot_rp_mean_flux', 'phot_bp_rp_excess_factor', \n",
    "                   'bp_rp','phot_g_mean_flux_error', 'phot_bp_mean_flux_error', 'phot_g_mean_mag', 'phot_bp_mean_mag', 'phot_rp_mean_mag', \n",
    "                   'phot_g_mean_mag_error', 'phot_bp_mean_mag_error', 'phot_rp_mean_mag_error',\n",
    "                   'phot_g_mean_mag_corrected', 'phot_g_mean_mag_error_corrected', 'phot_g_mean_flux_corrected', 'phot_bp_rp_excess_factor_corrected']\n",
    "\n",
    "#tried to organize these a little bit for future use if needed\n",
    "flux_col = ['phot_g_mean_flux', 'phot_bp_mean_flux','phot_rp_mean_flux']\n",
    "#phot_bp_rp_excess_factor,bp_rp]  # List the columns to process\n",
    "err_col = ['phot_g_mean_flux_error', 'phot_bp_mean_flux_error', '']\n",
    "mag_col = ['phot_g_mean_mag', 'phot_bp_mean_mag', 'phot_rp_mean_mag']\n",
    "mag_err_col = ['phot_g_mean_mag_error', 'phot_bp_mean_mag_error', 'phot_rp_mean_mag_error']\n",
    "#mag_corr_col = ['phot_g_mean_mag_corrected', phot_g_mean_mag_error_corrected,phot_g_mean_flux_corrected,phot_bp_rp_excess_factor_corrected\n",
    "#strx = df.drop(columns = (['parallax','parallax_error','parallax_over_error','pm','pmra','pmra_error',\n",
    "                             #'pmdec','pmdec_error','ruwe']))\n",
    "\n",
    "df[columns_to_clean] = df[columns_to_clean].apply(pd.to_numeric, errors='coerce')\n",
    "\n",
    "strx = df[columns_to_clean]\n",
    "\n",
    "#Count NaNs in each column\n",
    "nan_count = strx.isnull().sum()\n",
    "\n",
    "# Display columns with NaNs\n",
    "print(nan_count[nan_count > 0])\n",
    "print(np.max(nan_count) / len(strx))\n",
    "\n",
    "# drop the exceptional columns that still have NaNs\n",
    "NaNx_clean = strx.dropna()\n",
    "m_indices = NaNx_clean.index.tolist()\n",
    "print(len(NaNx_clean))\n",
    "\n",
    "# # Select columns with string (object) data\n",
    "# string_columns = strx.select_dtypes(include=['object'])\n",
    "# print(string_columns)\n",
    "\n",
    "# string_positions = strx.applymap(lambda x: isinstance(x, str)).stack()\n",
    "# print(strx.stack()[string_positions])\n",
    "\n",
    "# # print(strx['W3'][2].dtype)"
   ]
  },
  {
   "cell_type": "code",
   "execution_count": 18,
   "metadata": {},
   "outputs": [],
   "source": [
    "X = NaNx_clean  # Features\n",
    "y = df['SPEC'][m_indices]  # Labels\n",
    "\n",
    "X_train, X_test, y_train, y_test = train_test_split(X, y, test_size=0.2, random_state=42)"
   ]
  },
  {
   "cell_type": "code",
   "execution_count": 20,
   "metadata": {},
   "outputs": [
    {
     "name": "stdout",
     "output_type": "stream",
     "text": [
      "1100\n",
      "phot_g_mean_flux                      16\n",
      "phot_bp_mean_flux                     55\n",
      "phot_rp_mean_flux                     27\n",
      "phot_bp_rp_excess_factor              55\n",
      "bp_rp                                 55\n",
      "phot_g_mean_flux_error                16\n",
      "phot_bp_mean_flux_error               55\n",
      "phot_g_mean_mag                       16\n",
      "phot_bp_mean_mag                      55\n",
      "phot_rp_mean_mag                      27\n",
      "phot_g_mean_mag_error                 16\n",
      "phot_bp_mean_mag_error                55\n",
      "phot_rp_mean_mag_error                27\n",
      "phot_g_mean_mag_corrected             16\n",
      "phot_g_mean_mag_error_corrected       16\n",
      "phot_g_mean_flux_corrected            16\n",
      "phot_bp_rp_excess_factor_corrected    55\n",
      "dtype: int64\n",
      "0.05\n",
      "1045\n"
     ]
    }
   ],
   "source": [
    "df = pd.read_csv('gaia_matched/JOHNSTON_NotMDwarfs_Crossmatch.csv')  # Replace 'your_file.csv' with your filename\n",
    "pd.set_option('display.max_columns', None)\n",
    "print(len(df))\n",
    "\n",
    "columns_to_clean = ['phot_g_mean_flux', 'phot_bp_mean_flux','phot_rp_mean_flux', 'phot_bp_rp_excess_factor', \n",
    "                   'bp_rp','phot_g_mean_flux_error', 'phot_bp_mean_flux_error', 'phot_g_mean_mag', 'phot_bp_mean_mag', 'phot_rp_mean_mag', \n",
    "                   'phot_g_mean_mag_error', 'phot_bp_mean_mag_error', 'phot_rp_mean_mag_error',\n",
    "                   'phot_g_mean_mag_corrected', 'phot_g_mean_mag_error_corrected', 'phot_g_mean_flux_corrected', 'phot_bp_rp_excess_factor_corrected']\n",
    "\n",
    "df[columns_to_clean] = df[columns_to_clean].apply(pd.to_numeric, errors='coerce')\n",
    "\n",
    "strx = df[columns_to_clean]\n",
    "\n",
    "nan_count = strx.isnull().sum()\n",
    "print(nan_count[nan_count > 0])\n",
    "print(np.max(nan_count) / len(strx))\n",
    "\n",
    "NaNx_clean = strx.dropna()\n",
    "notm_indices = NaNx_clean.index.tolist()\n",
    "print(len(NaNx_clean))"
   ]
  },
  {
   "cell_type": "code",
   "execution_count": 21,
   "metadata": {},
   "outputs": [],
   "source": [
    "X = NaNx_clean  # Features\n",
    "y = df['SPEC'][notm_indices]  # Labels\n",
    "\n",
    "X_train, X_test, y_train, y_test = train_test_split(X, y, test_size=0.2, random_state=42)"
   ]
  },
  {
   "cell_type": "markdown",
   "metadata": {},
   "source": []
  },
  {
   "cell_type": "code",
   "execution_count": 25,
   "metadata": {},
   "outputs": [
    {
     "name": "stdout",
     "output_type": "stream",
     "text": [
      "70902\n",
      "phot_g_mean_flux                       168\n",
      "phot_bp_mean_flux                     5569\n",
      "phot_rp_mean_flux                     5149\n",
      "phot_bp_rp_excess_factor              5611\n",
      "bp_rp                                 5611\n",
      "phot_g_mean_flux_error                 168\n",
      "phot_bp_mean_flux_error               5569\n",
      "phot_g_mean_mag                        168\n",
      "phot_bp_mean_mag                      5569\n",
      "phot_rp_mean_mag                      5149\n",
      "phot_g_mean_mag_error                  168\n",
      "phot_bp_mean_mag_error                5569\n",
      "phot_rp_mean_mag_error                5149\n",
      "phot_g_mean_mag_corrected              168\n",
      "phot_g_mean_mag_error_corrected        168\n",
      "phot_g_mean_flux_corrected             168\n",
      "phot_bp_rp_excess_factor_corrected    5611\n",
      "dtype: int64\n",
      "0.07913740091957913\n",
      "65291\n"
     ]
    }
   ],
   "source": [
    "df = pd.read_csv('gaia_matched/RANDOM_Stars_Crossmatch.csv')  # Replace 'your_file.csv' with your filename\n",
    "pd.set_option('display.max_columns', None)\n",
    "print(len(df))\n",
    "\n",
    "columns_to_clean = ['phot_g_mean_flux', 'phot_bp_mean_flux','phot_rp_mean_flux', 'phot_bp_rp_excess_factor', \n",
    "                   'bp_rp','phot_g_mean_flux_error', 'phot_bp_mean_flux_error', 'phot_g_mean_mag', 'phot_bp_mean_mag', 'phot_rp_mean_mag', \n",
    "                   'phot_g_mean_mag_error', 'phot_bp_mean_mag_error', 'phot_rp_mean_mag_error',\n",
    "                   'phot_g_mean_mag_corrected', 'phot_g_mean_mag_error_corrected', 'phot_g_mean_flux_corrected', 'phot_bp_rp_excess_factor_corrected']\n",
    "\n",
    "df['SPEC'] = 'ND'\n",
    "\n",
    "df[columns_to_clean] = df[columns_to_clean].apply(pd.to_numeric, errors='coerce')\n",
    "\n",
    "strx = df[columns_to_clean]\n",
    "\n",
    "nan_count = strx.isnull().sum()\n",
    "print(nan_count[nan_count > 0])\n",
    "print(np.max(nan_count) / len(strx))\n",
    "\n",
    "NaNx_clean = strx.dropna()\n",
    "rand_indices = NaNx_clean.index.tolist()\n",
    "print(len(NaNx_clean))"
   ]
  },
  {
   "cell_type": "code",
   "execution_count": 26,
   "metadata": {},
   "outputs": [],
   "source": [
    "X = NaNx_clean  # Features\n",
    "y = df['SPEC'][rand_indices]  # Labels\n",
    "\n",
    "X_train, X_test, y_train, y_test = train_test_split(X, y, test_size=0.2, random_state=42)"
   ]
  },
  {
   "cell_type": "code",
   "execution_count": 27,
   "metadata": {},
   "outputs": [],
   "source": [
    "# Machine learning for the cleaned spectral data\n",
    "scaler = StandardScaler()\n",
    "X_scaled = scaler.fit_transform(X)\n",
    "\n",
    "# Train-test split\n",
    "X_train, X_test, y_train, y_test = train_test_split(X_scaled, y, test_size=0.2, random_state=42)\n",
    "\n",
    "# KNN classifier\n",
    "knn = KNeighborsClassifier(n_neighbors=5, metric='euclidean')\n",
    "knn.fit(X_train, y_train)\n",
    "\n",
    "# Predictions\n",
    "y_pred = knn.predict(X_test)"
   ]
  }
 ],
 "metadata": {
  "kernelspec": {
   "display_name": "Python 3",
   "language": "python",
   "name": "python3"
  },
  "language_info": {
   "codemirror_mode": {
    "name": "ipython",
    "version": 3
   },
   "file_extension": ".py",
   "mimetype": "text/x-python",
   "name": "python",
   "nbconvert_exporter": "python",
   "pygments_lexer": "ipython3",
   "version": "3.12.8"
  },
  "orig_nbformat": 4,
  "vscode": {
   "interpreter": {
    "hash": "71a97d14f7cf0d5b768614ea5fe0b04c6b7142e786139792f87da4c16c381152"
   }
  }
 },
 "nbformat": 4,
 "nbformat_minor": 2
}
