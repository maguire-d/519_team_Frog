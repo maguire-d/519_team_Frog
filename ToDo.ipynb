{
 "cells": [
  {
   "cell_type": "markdown",
   "metadata": {},
   "source": [
    "What do we need to get done??? \n",
    "\n",
    " (When you complete a task fill brackets with X)\n",
    "\n",
    " (When you encounter a new signifciant (sub)task add it to the list)\n",
    "\n",
    " IF YOU WANT TO/START TO WORK ON A PART OF THE PROJECT LISTED HERE PUT YOUR NAME ON IT\n",
    "\n",
    "1)\n",
    "* [] Obtain appropriate Gaia data to match with browndwarflist\n",
    "\n",
    "2)\n",
    "* [] Prune browndwarflist to relevant brown dwarves and m-dwarves\n",
    "\n",
    "3)\n",
    "* [] Cross-match Gaia data with browndwarflist\n",
    "\n",
    "4)\n",
    "--- a)\n",
    "* [] Run supervised learning on parameter space for gaia data with brown dwarves, m-dwarves, and standard stars identified\n",
    "\n",
    "--- b)\n",
    "* [] Run supervised learning using gaia's spectroscopic data with brown dwarves, m-dwarves, and standard stars identified\n",
    "\n",
    "5)\n",
    "--- a)\n",
    "* [] Use a holdout set either internal to gaia data or from a different data base to check learning in 4a\n",
    "* [] Test which parameters are most important for browndwarf identification from 4a\n",
    "* --- [] Generate relevant confusion plots and color coded plots in parameter space\n",
    "\n",
    "--- b)\n",
    "* [] Use a holdout set using external spectroscopic data to check learning in 4b\n",
    "* --- [] Generate relevant confusion plots"
   ]
  },
  {
   "cell_type": "markdown",
   "metadata": {},
   "source": []
  }
 ],
 "metadata": {
  "language_info": {
   "name": "python"
  }
 },
 "nbformat": 4,
 "nbformat_minor": 2
}
