{
 "cells": [
  {
   "cell_type": "markdown",
   "metadata": {},
   "source": [
    "What do we need to get done???\n",
    "\n",
    "1)\n",
    "* [] Obtain appropriate Gaia data to match with browndwarflist\n",
    "\n",
    "2)\n",
    "* [] Prune browndwarflist to relevant brown dwarves and m-dwarves\n",
    "\n",
    "3)\n",
    "* [] Cross-match Gaia data with browndwarflist\n",
    "\n",
    "4a)\n",
    "* [] Run supervised learning on parameter space for gaia data with brown dwarves, m-dwarves, and standard stars identified\n",
    "\n",
    "4b)\n",
    "* [] Run supervised learning using gaia's spectroscopic data with brown dwarves, m-dwarves, and standard stars identified\n",
    "\n",
    "5a)\n",
    "* [] Use a holdout set either internal to gaia data or from a different data base to check learning in 4a\n",
    "* [] Test which parameters are most important for browndwarf identification from 4a\n",
    "\n",
    "5b)\n",
    "* [] Use a holdout set using external spectroscopic data to check learning in 4b"
   ]
  },
  {
   "cell_type": "markdown",
   "metadata": {},
   "source": []
  }
 ],
 "metadata": {
  "language_info": {
   "name": "python"
  }
 },
 "nbformat": 4,
 "nbformat_minor": 2
}
